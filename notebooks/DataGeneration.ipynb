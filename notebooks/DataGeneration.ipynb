{
 "cells": [
  {
   "cell_type": "code",
   "execution_count": null,
   "metadata": {},
   "outputs": [],
   "source": [
    "%cd .."
   ]
  },
  {
   "cell_type": "code",
   "execution_count": 1,
   "metadata": {},
   "outputs": [],
   "source": [
    "import glob\n",
    "import os\n",
    "\n",
    "import pyvista as pv\n",
    "from natsort import natsorted"
   ]
  },
  {
   "cell_type": "code",
   "execution_count": 15,
   "metadata": {},
   "outputs": [
    {
     "name": "stdout",
     "output_type": "stream",
     "text": [
      "\n",
      "['/home/suetin/Projects/VSCode/3DReconstructions/Final_models/Final_models_01/Full_Heart_Mesh_1.vtk', '/home/suetin/Projects/VSCode/3DReconstructions/Final_models/Final_models_01/Full_Heart_Mesh_2.vtk', '/home/suetin/Projects/VSCode/3DReconstructions/Final_models/Final_models_01/Full_Heart_Mesh_3.vtk', '/home/suetin/Projects/VSCode/3DReconstructions/Final_models/Final_models_01/Full_Heart_Mesh_4.vtk', '/home/suetin/Projects/VSCode/3DReconstructions/Final_models/Final_models_01/Full_Heart_Mesh_5.vtk', '/home/suetin/Projects/VSCode/3DReconstructions/Final_models/Final_models_01/Full_Heart_Mesh_6.vtk', '/home/suetin/Projects/VSCode/3DReconstructions/Final_models/Final_models_01/Full_Heart_Mesh_7.vtk', '/home/suetin/Projects/VSCode/3DReconstructions/Final_models/Final_models_01/Full_Heart_Mesh_8.vtk', '/home/suetin/Projects/VSCode/3DReconstructions/Final_models/Final_models_01/Full_Heart_Mesh_9.vtk', '/home/suetin/Projects/VSCode/3DReconstructions/Final_models/Final_models_01/Full_Heart_Mesh_10.vtk', '/home/suetin/Projects/VSCode/3DReconstructions/Final_models/Final_models_01/Full_Heart_Mesh_11.vtk', '/home/suetin/Projects/VSCode/3DReconstructions/Final_models/Final_models_01/Full_Heart_Mesh_12.vtk', '/home/suetin/Projects/VSCode/3DReconstructions/Final_models/Final_models_01/Full_Heart_Mesh_13.vtk', '/home/suetin/Projects/VSCode/3DReconstructions/Final_models/Final_models_01/Full_Heart_Mesh_14.vtk', '/home/suetin/Projects/VSCode/3DReconstructions/Final_models/Final_models_01/Full_Heart_Mesh_15.vtk', '/home/suetin/Projects/VSCode/3DReconstructions/Final_models/Final_models_01/Full_Heart_Mesh_16.vtk', '/home/suetin/Projects/VSCode/3DReconstructions/Final_models/Final_models_01/Full_Heart_Mesh_17.vtk', '/home/suetin/Projects/VSCode/3DReconstructions/Final_models/Final_models_01/Full_Heart_Mesh_18.vtk', '/home/suetin/Projects/VSCode/3DReconstructions/Final_models/Final_models_01/Full_Heart_Mesh_19.vtk', '/home/suetin/Projects/VSCode/3DReconstructions/Final_models/Final_models_01/Full_Heart_Mesh_20.vtk', '/home/suetin/Projects/VSCode/3DReconstructions/Final_models/Final_models_01/Full_Heart_Mesh_21.vtk', '/home/suetin/Projects/VSCode/3DReconstructions/Final_models/Final_models_01/Full_Heart_Mesh_22.vtk', '/home/suetin/Projects/VSCode/3DReconstructions/Final_models/Final_models_01/Full_Heart_Mesh_23.vtk', '/home/suetin/Projects/VSCode/3DReconstructions/Final_models/Final_models_01/Full_Heart_Mesh_24.vtk', '/home/suetin/Projects/VSCode/3DReconstructions/Final_models/Final_models_01/Full_Heart_Mesh_25.vtk']\n",
      "data/Heart/heart_seg/heart_render/heart/full_heart_mesh_001\n"
     ]
    }
   ],
   "source": [
    "def main():\n",
    "    # Change these values\n",
    "    data_folder = r'/home/suetin/Projects/VSCode/3DReconstructions/Final_models/Final_models_01'  # r'/path/to/your/vtkdata/'\n",
    "    save_folder = r'data/Heart'\n",
    "    #\n",
    "    # (glob.glob(data_folder + '*.vtk'))\n",
    "    print()\n",
    "    all_data_paths = natsorted(\n",
    "        [os.path.join(data_folder, dir_name) for dir_name in os.listdir(data_folder) if dir_name.split('.')[-1] == 'vtk']\n",
    "    )\n",
    "    # print(glob.glob(data_folder))\n",
    "\n",
    "    print(all_data_paths)\n",
    "\n",
    "    for file in all_data_paths:\n",
    "        case_mesh = pv.get_reader(file).read()\n",
    "        case_number = file.split(os.sep)[-1].split('.')[0].split('_')[-1]\n",
    "        filled_case_name = 'full_heart_mesh_' + str(int(case_number)).zfill(3)\n",
    "        save_path = os.path.join(save_folder, 'heart_seg', 'heart_render', 'heart', filled_case_name)\n",
    "\n",
    "        if not os.path.isdir(save_path):\n",
    "            os.makedirs(save_path)\n",
    "\n",
    "        print(save_path)\n",
    "        break\n",
    "\n",
    "        case_mesh.save(os.path.join(save_path, filled_case_name + '.vtk'), binary=True)\n",
    "        print('Finished file:', file)\n",
    "\n",
    "\n",
    "main()"
   ]
  },
  {
   "cell_type": "code",
   "execution_count": null,
   "metadata": {},
   "outputs": [],
   "source": [
    "from config import cfg\n",
    "from src.scripts.data_extraction.slicing.plane_extract import run_slice_extraction\n",
    "from multiprocessing import Pool, process\n",
    "from itertools import repeat\n",
    "import time\n",
    "\n",
    "\n",
    "def main():\n",
    "    all_data_paths = natsorted(glob.glob(cfg.DATA_IN.DATA_FOLDER + '*.vtk'))\n",
    "    start = time.perf_counter()\n",
    "    case_names = [file.split(os.sep)[-1].split('.')[0] for file in all_data_paths]\n",
    "\n",
    "    save_paths = [os.path.join(cfg.DATA_IN.SAVE_FOLDER, 'heart_seg', 'heart_render', 'heart', case_name) for case_name\n",
    "                  in\n",
    "                  case_names]\n",
    "\n",
    "    for path in save_paths:\n",
    "        if not os.path.exists(path):\n",
    "            os.makedirs(path)\n",
    "\n",
    "    with Pool(cfg.PARAMETERS.NUM_WORKERS) as pool:\n",
    "        pool.starmap(run_slice_extraction,\n",
    "                     zip(repeat(cfg), all_data_paths, save_paths, repeat(cfg.DATA_OUT.FANCY_PLOT)))\n",
    "\n",
    "    finish = time.perf_counter()\n",
    "    print(f'Finished in {finish - start} second(s)')\n",
    "\n",
    "\n",
    "main()"
   ]
  },
  {
   "cell_type": "code",
   "execution_count": null,
   "metadata": {},
   "outputs": [],
   "source": []
  },
  {
   "cell_type": "code",
   "execution_count": null,
   "metadata": {},
   "outputs": [],
   "source": []
  },
  {
   "cell_type": "code",
   "execution_count": null,
   "metadata": {},
   "outputs": [],
   "source": [
    "import numpy as np\n",
    "import pandas as pd\n",
    "from natsort import natsorted\n",
    "from pyntcloud import PyntCloud\n",
    "\n",
    "from src.scripts.data_extraction.slicing.config import cfg\n",
    "from src.scripts.data_extraction.slicing.plane_extract import prepare_meshes\n",
    "\n",
    "\n",
    "def convert_vtk2np_voxels(in_mesh, vol_resolution):\n",
    "    df = pd.DataFrame(data=in_mesh.points, columns=['x', 'y', 'z'])\n",
    "    cloud = PyntCloud(df)\n",
    "\n",
    "    voxelgrid_id = cloud.add_structure('voxelgrid', n_x=vol_resolution, n_y=vol_resolution, n_z=vol_resolution)\n",
    "    voxelgrid = cloud.structures[voxelgrid_id]\n",
    "    binary_voxel_array = voxelgrid.get_feature_vector(mode='binary')\n",
    "    # binary_voxel_array = closing(Binary_voxel_array, cube(2))\n",
    "    return binary_voxel_array\n",
    "\n",
    "\n",
    "def main():\n",
    "    # Change these values\n",
    "    data_folder = r'/path/to/heart/meshes/'\n",
    "    save_folder = r'/path/to/save/voxel_models/to'\n",
    "    vol_resolution = 64\n",
    "    #\n",
    "\n",
    "    all_data_paths = natsorted(glob.glob(os.path.join(data_folder, '*.vtk')))\n",
    "\n",
    "    for file in all_data_paths:\n",
    "        loaded_mesh, __ = prepare_meshes(cfg, file)\n",
    "        out_voxel_array = convert_vtk2np_voxels(loaded_mesh, vol_resolution)\n",
    "\n",
    "        case_name = file.split(os.sep)[-1].split('.')[0]\n",
    "        save_path = os.path.join(save_folder, 'heart', case_name)\n",
    "\n",
    "        if not os.path.isdir(save_path):\n",
    "            os.makedirs(save_path)\n",
    "\n",
    "        np.save(os.path.join(save_path, 'model.npy'), out_voxel_array)\n",
    "        print('Finished file:', file)\n",
    "\n",
    "\n",
    "main()"
   ]
  }
 ],
 "metadata": {
  "kernelspec": {
   "display_name": ".venv",
   "language": "python",
   "name": "python3"
  },
  "language_info": {
   "codemirror_mode": {
    "name": "ipython",
    "version": 3
   },
   "file_extension": ".py",
   "mimetype": "text/x-python",
   "name": "python",
   "nbconvert_exporter": "python",
   "pygments_lexer": "ipython3",
   "version": "3.10.12"
  }
 },
 "nbformat": 4,
 "nbformat_minor": 2
}
